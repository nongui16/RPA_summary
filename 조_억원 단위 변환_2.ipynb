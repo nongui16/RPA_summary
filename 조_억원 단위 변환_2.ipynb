{
 "cells": [
  {
   "cell_type": "markdown",
   "id": "aa5ec5fc",
   "metadata": {},
   "source": [
    "### 조_억원 단위 변환(나눗셈 활용) ###"
   ]
  },
  {
   "cell_type": "code",
   "execution_count": 15,
   "id": "4f3af4d8",
   "metadata": {
    "scrolled": true
   },
   "outputs": [
    {
     "data": {
      "text/plain": [
       "'3조 2억원'"
      ]
     },
     "execution_count": 15,
     "metadata": {},
     "output_type": "execute_result"
    }
   ],
   "source": [
    "## 가져올 문자열은 모두 ','를 포함하고 있다고 가정 ##\n",
    "\n",
    "def won_2(a):\n",
    "    amount = abs(int(a.replace(',','')))  ## 정수화 해서 절대값 씌우기\n",
    "    if a[0] == '-':  ## 음수면\n",
    "        if amount % 10000 > 999:  ## 천억원 단위이면\n",
    "            return f'-{amount // 10000}조' + ' ' + \"{:,}\".format(amount % 10000) + '억원'\n",
    "        else: \n",
    "            return f'-{amount // 10000}조 {amount % 10000}억원'\n",
    "    else:\n",
    "        if amount % 10000 > 999:\n",
    "            return f'{amount // 10000}조' + ' ' + \"{:,}\".format(amount % 10000) + '억원'\n",
    "        else:\n",
    "            return f'{amount // 10000}조 {amount % 10000}억원'\n",
    "        \n",
    "won_2('30,002')"
   ]
  },
  {
   "cell_type": "markdown",
   "id": "b5bf9ec6",
   "metadata": {},
   "source": [
    "### 조_억원 단위 변환(나눗셈 활용) 화살표 ###"
   ]
  },
  {
   "cell_type": "code",
   "execution_count": 16,
   "id": "e2abdf2d",
   "metadata": {},
   "outputs": [
    {
     "data": {
      "text/plain": [
       "'101조 102억원↑'"
      ]
     },
     "execution_count": 16,
     "metadata": {},
     "output_type": "execute_result"
    }
   ],
   "source": [
    "def won_2_arrow(a):\n",
    "    amount = won_2(a)\n",
    "    if amount[0] == '-':\n",
    "        return amount.replace('-','') + '↓' ## 음수면 -지우고 화살표\n",
    "    else:\n",
    "        return amount + '↑'\n",
    "    \n",
    "won_2_arrow('1,010,102')"
   ]
  }
 ],
 "metadata": {
  "kernelspec": {
   "display_name": "Python 3 (ipykernel)",
   "language": "python",
   "name": "python3"
  },
  "language_info": {
   "codemirror_mode": {
    "name": "ipython",
    "version": 3
   },
   "file_extension": ".py",
   "mimetype": "text/x-python",
   "name": "python",
   "nbconvert_exporter": "python",
   "pygments_lexer": "ipython3",
   "version": "3.9.12"
  }
 },
 "nbformat": 4,
 "nbformat_minor": 5
}
