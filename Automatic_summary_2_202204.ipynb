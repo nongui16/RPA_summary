{
 "cells": [
  {
   "cell_type": "markdown",
   "id": "4ffaa1f5",
   "metadata": {},
   "source": [
    "### 라이브러리 호출"
   ]
  },
  {
   "cell_type": "code",
   "execution_count": 1,
   "id": "42f6d50a",
   "metadata": {},
   "outputs": [],
   "source": [
    "import Automatic_def # 숫자를 입력하면 억원 단위로 출력해주는 함수 모음\n",
    "from Automatic_def import *\n",
    "\n",
    "import pandas as pd\n",
    "from pandas import DataFrame\n",
    "from pandas.tseries.offsets import DateOffset\n",
    "\n",
    "import numpy as np\n",
    "import xlwings as xw\n",
    "\n",
    "import shutil\n",
    "import win32com.client as win32\n",
    "\n",
    "import pyautogui\n",
    "\n",
    "import calendar\n",
    "import datetime\n",
    "from datetime import datetime\n",
    "import time"
   ]
  },
  {
   "cell_type": "code",
   "execution_count": 2,
   "id": "020472d2",
   "metadata": {
    "scrolled": true
   },
   "outputs": [
    {
     "data": {
      "text/plain": [
       "True"
      ]
     },
     "execution_count": 2,
     "metadata": {},
     "output_type": "execute_result"
    }
   ],
   "source": [
    "### 엑셀 input ###\n",
    "book_101 = xw.Book(\"C:/Users/infomax/Desktop/python/RPA_summary/2022년04월말운용요약.xlsx\")\n",
    "sh101 = book_101.sheets('값최종')\n",
    "\n",
    "### 한글 input & output ###\n",
    "shutil.copyfile(\"C:/Users/infomax/Desktop/python/RPA_summary/2022년03월요약.hwp\",\"C:/Users/infomax/Desktop/python/RPA_summary/2022년04월요약.hwp\")\n",
    "hwp = win32.gencache.EnsureDispatch(\"HWPFrame.HwpObject\")\n",
    "hwp.Open(r\"C:/Users/infomax/Desktop/python/RPA_summary/2022년04월요약.hwp\")"
   ]
  },
  {
   "cell_type": "code",
   "execution_count": 3,
   "id": "d24f546e",
   "metadata": {},
   "outputs": [],
   "source": [
    "hwp.PutFieldText('c_1', hwp.GetFieldText('d_1'))\n",
    "hwp.PutFieldText('a_1', sh101.range('C2').value)\n",
    "\n",
    "n월말 = hwp.GetFieldText('a_1').split(\" \")[1]\n",
    "\n",
    "hwp.PutFieldText('d_1', hwp.GetFieldText('a_1'))"
   ]
  },
  {
   "cell_type": "code",
   "execution_count": 4,
   "id": "46d8cc5e",
   "metadata": {},
   "outputs": [],
   "source": [
    "for a in range(0,20): #잔액 전월말로 옮기기\n",
    "     hwp.PutFieldText(f\"c_{a+2}\",format(round(sh101.range(f's{a+4}').value),',')) \n",
    "        \n",
    "for a in range(0,20): #당월 잔액 채워넣기\n",
    "    hwp.PutFieldText(f'd_{a+2}',format(round(sh101.range(f'c{a+4}').value),','))"
   ]
  },
  {
   "cell_type": "markdown",
   "id": "698a6001",
   "metadata": {},
   "source": [
    "### 조원/억원 변환 함수2"
   ]
  },
  {
   "cell_type": "code",
   "execution_count": 5,
   "id": "c5a34124",
   "metadata": {},
   "outputs": [
    {
     "data": {
      "text/plain": [
       "'3조원 2억원'"
      ]
     },
     "execution_count": 5,
     "metadata": {},
     "output_type": "execute_result"
    }
   ],
   "source": [
    "## 가져올 문자열은 모두 ','를 포함하고 있다고 가정 ##\n",
    "\n",
    "def won_2(a):\n",
    "    \n",
    "    amount = abs(int(a.replace(',','')))  ## 정수화 해서 절대값 씌우기\n",
    "    big = amount // 10000\n",
    "    small = amount % 10000\n",
    "    \n",
    "    def small_2(a):\n",
    "        if small > 999:\n",
    "            return \"{:,}\".format(small) + \"억원\"\n",
    "        else:\n",
    "            return str(small) + \"억원\"\n",
    "    \n",
    "    def big_2(a):\n",
    "        if big == 0:\n",
    "            return \"\"\n",
    "        else:\n",
    "            return str(big) + \"조 \"\n",
    "        \n",
    "    if str(int(a.replace(',','')))[0] == '-':\n",
    "        return f\"-{big_2(amount)}{small_2(amount)}\"\n",
    "    else:\n",
    "        return f\"{big_2(amount)}{small_2(amount)}\"\n",
    "        \n",
    "won_2('30,002')"
   ]
  },
  {
   "cell_type": "markdown",
   "id": "4c633075",
   "metadata": {},
   "source": [
    "### 조원/억원 변환 함수2"
   ]
  },
  {
   "cell_type": "code",
   "execution_count": 6,
   "id": "c1b5f068",
   "metadata": {},
   "outputs": [],
   "source": [
    "### 조원 단위 만들기 ###\n",
    "#hwp.PutFieldText('b_1',hwp.GetFieldText('d_21').replace(\",\",\"\")[0:3])\n",
    "\n",
    "### 억원 단위 만들기 ###\n",
    "#if(hwp.GetFieldText('d_21').replace(\",\",\"\")[3] == '0'):\n",
    "#    hwp.PutFieldText('b_2',hwp.GetFieldText('d_21').replace(\",\",\"\")[4:])\n",
    "\n",
    "#else:\n",
    "#    hwp.PutFieldText('b_2',hwp.GetFieldText('d_21').replace(\",\",\"\")[3:])"
   ]
  },
  {
   "cell_type": "markdown",
   "id": "c4107653",
   "metadata": {},
   "source": [
    "### 조원/억원 변환함수2 (화살표)"
   ]
  },
  {
   "cell_type": "code",
   "execution_count": 7,
   "id": "6a85a920",
   "metadata": {},
   "outputs": [
    {
     "data": {
      "text/plain": [
       "'101조원 102억원↑'"
      ]
     },
     "execution_count": 7,
     "metadata": {},
     "output_type": "execute_result"
    }
   ],
   "source": [
    "def won_2_arrow(a):\n",
    "    amount = won_2(a)\n",
    "    if amount[0] == '-':\n",
    "        return amount.replace('-','') + '↓' ## 음수면 -지우고 화살표\n",
    "    else:\n",
    "        return amount + '↑'\n",
    "    \n",
    "won_2_arrow('1,010,102')"
   ]
  },
  {
   "cell_type": "code",
   "execution_count": 8,
   "id": "7bf5f147",
   "metadata": {},
   "outputs": [],
   "source": [
    "for a in range(0,20): # 결산 손익 전월말\n",
    "     hwp.PutFieldText(f\"c_{a+22}\",format(round(sh101.range(f't{a+4}').value),',')) \n",
    "\n",
    "for a in range(0,20): # 결산 손익 당월 채워넣기\n",
    "    hwp.PutFieldText(f'd_{a+22}',format(round(sh101.range(f'e{a+4}').value),',')) \n",
    "    \n",
    "for a in range(0,20): # 평가 손익 전월말\n",
    "     hwp.PutFieldText(f\"c_{a+42}\",format(round(sh101.range(f'u{a+4}').value),','))  \n",
    "\n",
    "for a in range(0,20): # 평가 손익 당월 채워넣기\n",
    "    hwp.PutFieldText(f'd_{a+42}',format(round(sh101.range(f'h{a+4}').value),',')) "
   ]
  },
  {
   "cell_type": "code",
   "execution_count": 9,
   "id": "8654c809",
   "metadata": {
    "scrolled": false
   },
   "outputs": [],
   "source": [
    "for a in range(0,20): #전월말 대비 평가손익\n",
    "    hwp.PutFieldText(f'e_{a+2}',format((int(hwp.GetFieldText(f'd_{a+42}').replace(',','')) - int(hwp.GetFieldText(f'c_{a+42}').replace(',',\"\"))),','))"
   ]
  },
  {
   "cell_type": "code",
   "execution_count": 10,
   "id": "f1e95665",
   "metadata": {},
   "outputs": [],
   "source": [
    "for a in range(0,20): # 결산 수익률 전월말로 옮기기\n",
    "     hwp.PutFieldText(f\"c_{a+62}\",\"{:.2f}\".format(round(sh101.range(f'v{a+4}').value,2),','))\n",
    "        \n",
    "for a in range(0,20): # 운용 수익률 전월말로 옮기기\n",
    "     hwp.PutFieldText(f\"c_{a+82}\",format(round(sh101.range(f'w{a+4}').value,2),',')) "
   ]
  },
  {
   "cell_type": "code",
   "execution_count": 11,
   "id": "08bcef53",
   "metadata": {},
   "outputs": [],
   "source": [
    "for a in range(0,20): # 결산수익률 당월 채워넣기\n",
    "    hwp.PutFieldText(f'd_{a+62}',\"{:.2f}\".format(round(sh101.range(f'f{a+4}').value,2),','))\n",
    "    \n",
    "for a in range(0,20): # 운용수익률 당월 채워넣기\n",
    "    hwp.PutFieldText(f'd_{a+82}',\"{:.2f}\".format(round(sh101.range(f'k{a+4}').value,2),','))"
   ]
  },
  {
   "cell_type": "code",
   "execution_count": 12,
   "id": "53f0ffdd",
   "metadata": {},
   "outputs": [],
   "source": [
    "for a in range(0,20): #전월말 대비 결산손익률\n",
    "    hwp.PutFieldText(f'f_{a+2}', \"{:.2f}\".format(float(hwp.GetFieldText(f'd_{a+62}')) - float(hwp.GetFieldText(f'c_{a+62}'))))\n",
    "    \n",
    "for a in range(0,20): #전월말 대비 운용손익률\n",
    "    hwp.PutFieldText(f'f_{a+22}',\"{:.2f}\".format(float(hwp.GetFieldText(f'd_{a+82}')) - float(hwp.GetFieldText(f'c_{a+82}'))))"
   ]
  },
  {
   "cell_type": "code",
   "execution_count": 13,
   "id": "15f45006",
   "metadata": {},
   "outputs": [],
   "source": [
    "for a in range(0,20): #전년말 대비 평가손익 증감\n",
    "    hwp.PutFieldText(f'e_{a+22}', format(int(sh101.range(f'i{a+4}').value),',')) "
   ]
  },
  {
   "cell_type": "code",
   "execution_count": 14,
   "id": "89026827",
   "metadata": {},
   "outputs": [],
   "source": [
    "for a in range(0,20): #전년말 대비 결산수익률 증감\n",
    "    hwp.PutFieldText(f'f_{a+42}', \"{:.2f}\".format(float(sh101.range(f'f{a+4}').value) - float((sh101.range(f'p{a+4}').value))))"
   ]
  },
  {
   "cell_type": "code",
   "execution_count": 15,
   "id": "3f34bbf4",
   "metadata": {},
   "outputs": [],
   "source": [
    "for a in range(0,20): #전년말 대비 운용수익률 증감\n",
    "    hwp.PutFieldText(f'f_{a+62}', \"{:.2f}\".format(float(sh101.range(f'k{a+4}').value) - float((sh101.range(f'q{a+4}').value))))"
   ]
  },
  {
   "cell_type": "code",
   "execution_count": 24,
   "id": "a8232ed5",
   "metadata": {
    "scrolled": true
   },
   "outputs": [],
   "source": [
    "### 한글 설명문(왼쪽) ###\n",
    "\n",
    "hwp.PutFieldText('b_1', won_2(hwp.GetFieldText('d_21'))) #총자산\n",
    "hwp.PutFieldText('b_3', won_2_arrow(\"{:.0f}\".format(float(str(sh101.range('c23').value).replace(\",\",'')) - float(str(sh101.range('m23').value).replace(\",\",''))))) ##전년말 대비\n",
    "hwp.PutFieldText('b_4', won_2(hwp.GetFieldText('c_21'))) # 전월말\n",
    "hwp.PutFieldText('b_5', won_2_arrow(\"{:.0f}\".format(float(str(sh101.range('c23').value).replace(\",\",'')) - float(str(sh101.range('s23').value).replace(\",\",'')))))\n",
    "hwp.PutFieldText('b_6', won_2(hwp.GetFieldText('d_16'))) #수익성자산\n",
    "hwp.PutFieldText('b_7', won_2_arrow(\"{:.0f}\".format(float(str(sh101.range('c18').value).replace(\",\",'')) - float(str(sh101.range('m18').value).replace(\",\",'')))))\n",
    "hwp.PutFieldText('b_8', won_2_arrow(\"{:.0f}\".format(float(str(sh101.range('c7').value).replace(\",\",'')) - float(str(sh101.range('m7').value).replace(\",\",'')))))\n",
    "hwp.PutFieldText('b_9', won_2_arrow(\"{:.0f}\".format(float(str(sh101.range('c11').value).replace(\",\",'')) - float(str(sh101.range('m11').value).replace(\",\",'')))))\n",
    "hwp.PutFieldText('b_10', won_2_arrow(\"{:.0f}\".format(float(str(sh101.range('c17').value).replace(\",\",'')) - float(str(sh101.range('m17').value).replace(\",\",'')))))\n",
    "hwp.PutFieldText('b_11', won_2(hwp.GetFieldText('c_16')))\n",
    "hwp.PutFieldText('b_12', won_2_arrow(\"{:.0f}\".format(float(str(sh101.range('c18').value).replace(\",\",'')) - float(str(sh101.range('s18').value).replace(\",\",'')))))\n",
    "hwp.PutFieldText('b_13', won_2_arrow(\"{:.0f}\".format(float(str(sh101.range('c7').value).replace(\",\",'')) - float(str(sh101.range('s7').value).replace(\",\",'')))))\n",
    "hwp.PutFieldText('b_14', won_2_arrow(\"{:.0f}\".format(float(str(sh101.range('c11').value).replace(\",\",'')) - float(str(sh101.range('s11').value).replace(\",\",'')))))\n",
    "hwp.PutFieldText('b_15', won_2_arrow(\"{:.0f}\".format(float(str(sh101.range('c17').value).replace(\",\",'')) - float(str(sh101.range('s17').value).replace(\",\",'')))))"
   ]
  },
  {
   "cell_type": "markdown",
   "id": "065ece59",
   "metadata": {},
   "source": [
    "### 화살표 함수 ###"
   ]
  },
  {
   "cell_type": "code",
   "execution_count": 17,
   "id": "8b14ecb6",
   "metadata": {},
   "outputs": [],
   "source": [
    "### %화살표 함수 ###\n",
    "def updown(a):\n",
    "    amount = float(\"{:.2f}\".format(float(a))) ##float\n",
    "    if amount < 0:\n",
    "        return(str(amount).replace('-',\"\") + '%p↓')\n",
    "    else:\n",
    "        return(str(amount) + '%p↑')"
   ]
  },
  {
   "cell_type": "code",
   "execution_count": 23,
   "id": "e5577112",
   "metadata": {},
   "outputs": [],
   "source": [
    "### 한글 설명문(오른쪽) ###\n",
    "hwp.PutFieldText('b_16',hwp.GetFieldText('d_81') + '%')\n",
    "hwp.PutFieldText('b_17',hwp.GetFieldText('d_101') + '%')\n",
    "hwp.PutFieldText('b_18', updown(float(sh101.range('f23').value) - float(sh101.range('p23').value)))\n",
    "hwp.PutFieldText('b_19', updown(float(sh101.range('k23').value) - float(sh101.range('q23').value)))\n",
    "hwp.PutFieldText('b_20',hwp.GetFieldText('c_81') + '%')\n",
    "hwp.PutFieldText('b_21', updown(float(sh101.range('f23').value) - float(sh101.range('v23').value)))\n",
    "hwp.PutFieldText('b_22',hwp.GetFieldText('c_101') + '%')\n",
    "hwp.PutFieldText('b_23', updown(float(sh101.range('k23').value) - float(sh101.range('w23').value)))\n",
    "\n",
    "hwp.PutFieldText('b_24',won_2(hwp.GetFieldText('d_61')))\n",
    "hwp.PutFieldText('b_25',won_2(hwp.GetFieldText('d_45')))\n",
    "hwp.PutFieldText('b_26',won_2(hwp.GetFieldText('d_49')))\n",
    "hwp.PutFieldText('b_27',won_2(hwp.GetFieldText('d_55')))\n",
    "\n",
    "hwp.PutFieldText('b_28', won_2_arrow(hwp.GetFieldText('e_41')))\n",
    "hwp.PutFieldText('b_29', won_2_arrow(\"{:.0f}\".format(float(str(sh101.range('h7').value).replace(\",\",'')) - float(str(sh101.range('o7').value).replace(\",\",'')))))\n",
    "hwp.PutFieldText('b_30', won_2_arrow(hwp.GetFieldText('e_29')))\n",
    "hwp.PutFieldText('b_31', won_2_arrow(hwp.GetFieldText('e_35')))\n",
    "\n",
    "hwp.PutFieldText('b_32', won_2(hwp.GetFieldText('c_61')))\n",
    "hwp.PutFieldText('b_33', won_2_arrow(hwp.GetFieldText('e_21')))\n",
    "hwp.PutFieldText('b_34', won_2_arrow(hwp.GetFieldText('e_5')))\n",
    "hwp.PutFieldText('b_35', won_2_arrow(hwp.GetFieldText('e_9')))\n",
    "hwp.PutFieldText('b_36', won_2_arrow(hwp.GetFieldText('e_15')))"
   ]
  },
  {
   "cell_type": "code",
   "execution_count": 19,
   "id": "9f9195ee",
   "metadata": {},
   "outputs": [
    {
     "name": "stdout",
     "output_type": "stream",
     "text": [
      "1조원 1,221억원↓\n"
     ]
    }
   ],
   "source": [
    "print(won_2_arrow(\"{:.0f}\".format(float(str(sh101.range('h7').value).replace(\",\",'')) - float(str(sh101.range('o7').value).replace(\",\",'')))))\n"
   ]
  },
  {
   "cell_type": "markdown",
   "id": "492990ea",
   "metadata": {},
   "source": [
    "### 조_억원 단위 변환(나눗셈 활용) ###"
   ]
  },
  {
   "cell_type": "code",
   "execution_count": 22,
   "id": "e35cd325",
   "metadata": {},
   "outputs": [
    {
     "data": {
      "text/plain": [
       "'3조 2억원'"
      ]
     },
     "execution_count": 22,
     "metadata": {},
     "output_type": "execute_result"
    }
   ],
   "source": [
    "## 가져올 문자열은 모두 ','를 포함하고 있다고 가정 ##\n",
    "\n",
    "def won_2(a):\n",
    "    \n",
    "    amount = abs(int(a.replace(',','')))  ## 정수화 해서 절대값 씌우기\n",
    "    big = amount // 10000\n",
    "    small = amount % 10000\n",
    "    \n",
    "    def small_2(a):\n",
    "        if small > 999:\n",
    "            return \"{:,}\".format(small) + \"억원\"\n",
    "        else:\n",
    "            return str(small) + \"억원\"\n",
    "    \n",
    "    def big_2(a):\n",
    "        if big == 0:\n",
    "            return \"\"\n",
    "        else:\n",
    "            return str(big) + \"조 \"\n",
    "        \n",
    "    if str(int(a.replace(',','')))[0] == '-':\n",
    "        return f\"-{big_2(amount)}{small_2(amount)}\"\n",
    "    else:\n",
    "        return f\"{big_2(amount)}{small_2(amount)}\"\n",
    "    \n",
    "won_2('30,002')"
   ]
  },
  {
   "cell_type": "markdown",
   "id": "f200481a",
   "metadata": {},
   "source": [
    "### 조_억원 단위 변환(나눗셈 활용) 화살표 ###"
   ]
  },
  {
   "cell_type": "code",
   "execution_count": 21,
   "id": "69f213ab",
   "metadata": {},
   "outputs": [
    {
     "data": {
      "text/plain": [
       "'101조원 102억원↑'"
      ]
     },
     "execution_count": 21,
     "metadata": {},
     "output_type": "execute_result"
    }
   ],
   "source": [
    "def won_2_arrow(a):\n",
    "    amount = won_2(a)\n",
    "    if amount[0] == '-':\n",
    "        return amount.replace('-','') + '↓' ## 음수면 -지우고 화살표\n",
    "    else:\n",
    "        return amount + '↑'\n",
    "    \n",
    "won_2_arrow('1,010,102')"
   ]
  },
  {
   "cell_type": "code",
   "execution_count": null,
   "id": "4d72a98f",
   "metadata": {},
   "outputs": [],
   "source": []
  }
 ],
 "metadata": {
  "kernelspec": {
   "display_name": "Python 3 (ipykernel)",
   "language": "python",
   "name": "python3"
  },
  "language_info": {
   "codemirror_mode": {
    "name": "ipython",
    "version": 3
   },
   "file_extension": ".py",
   "mimetype": "text/x-python",
   "name": "python",
   "nbconvert_exporter": "python",
   "pygments_lexer": "ipython3",
   "version": "3.9.12"
  }
 },
 "nbformat": 4,
 "nbformat_minor": 5
}
